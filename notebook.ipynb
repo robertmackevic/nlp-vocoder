{
 "cells": [
  {
   "cell_type": "code",
   "id": "initial_id",
   "metadata": {
    "collapsed": true
   },
   "source": [
    "import librosa.feature\n",
    "import numpy as np\n",
    "from IPython.display import Audio\n",
    "from matplotlib import pyplot as plt\n",
    "from pesq import pesq\n",
    "\n",
    "from src.paths import DATA_DIR\n",
    "from src.pipeline import run_testing_pipeline\n",
    "\n",
    "SAMPLE_RATE = 16000\n",
    "AUDIO_FILE = DATA_DIR / \"LJ025-0076.wav\"\n",
    "TEXT = \"Many animals of even complex structure which live parasitically within others are wholly devoid of an alimentary cavity.\""
   ],
   "outputs": [],
   "execution_count": null
  },
  {
   "metadata": {},
   "cell_type": "markdown",
   "source": "### End-to-end waveform reconstruction PESQ test ",
   "id": "1cbee204cb4b0f93"
  },
  {
   "metadata": {},
   "cell_type": "code",
   "source": [
    "for with_reconstruction in [True, False]:\n",
    "    print(f\"Running tests with waveform reconstruction: {with_reconstruction}\")\n",
    "    run_testing_pipeline(\n",
    "        directory=DATA_DIR,\n",
    "        reconstruct=with_reconstruction,\n",
    "        n_fft=512,\n",
    "        win_length=512,\n",
    "        hop_length=256,\n",
    "        n_mels=128,\n",
    "        window=\"hann\",\n",
    "        power=2.0,\n",
    "    )"
   ],
   "id": "1f8e2f3e0cb663e9",
   "outputs": [],
   "execution_count": null
  },
  {
   "metadata": {},
   "cell_type": "markdown",
   "source": "### Step-by-step waveform reconstruction with visuals",
   "id": "32b996af8d170e08"
  },
  {
   "metadata": {},
   "cell_type": "code",
   "source": [
    "original_waveform, sample_rate = librosa.load(AUDIO_FILE, sr=SAMPLE_RATE)\n",
    "duration = librosa.get_duration(y=original_waveform, sr=sample_rate)\n",
    "print(f\"Sample rate: {sample_rate} Hz\")\n",
    "print(f\"Duration: {duration:.3f} seconds\")\n",
    "print(f\"Number of samples: {len(original_waveform)}\")\n",
    "print(f\"Text: {TEXT}\")\n",
    "\n",
    "plt.figure(figsize=(12, 3))\n",
    "librosa.display.waveshow(original_waveform, sr=sample_rate, color=\"blue\")\n",
    "plt.title(\"Original Waveform\")\n",
    "plt.xlabel(\"Time (seconds)\")\n",
    "plt.ylabel(\"Amplitude\")\n",
    "plt.show()\n",
    "\n",
    "Audio(data=original_waveform, rate=sample_rate)"
   ],
   "id": "e90be6458f756df1",
   "outputs": [],
   "execution_count": null
  },
  {
   "metadata": {},
   "cell_type": "code",
   "source": [
    "mel_spectrogram = librosa.feature.melspectrogram(\n",
    "    y=original_waveform,\n",
    "    sr=sample_rate,\n",
    "    n_fft=512,\n",
    "    win_length=512,\n",
    "    hop_length=256,\n",
    "    n_mels=128,\n",
    "    window=\"hann\",\n",
    "    power=2.0,\n",
    ")\n",
    "print(f\"Mel spectrogram shape: {mel_spectrogram.shape}\")\n",
    "\n",
    "plt.figure(figsize=(12, 3))\n",
    "librosa.display.specshow(librosa.power_to_db(mel_spectrogram, ref=np.max))\n",
    "plt.title(\"Mel spectrogram\")\n",
    "plt.xlabel(\"Time (frames)\")\n",
    "plt.ylabel(\"Mel Frequency Bins\")\n",
    "plt.colorbar()\n",
    "plt.show()"
   ],
   "id": "352fbe355796a54d",
   "outputs": [],
   "execution_count": null
  },
  {
   "metadata": {},
   "cell_type": "code",
   "source": [
    "stft_magnitude = librosa.feature.inverse.mel_to_stft(\n",
    "    mel_spectrogram,\n",
    "    sr=sample_rate,\n",
    "    n_fft=512,\n",
    "    power=2.0\n",
    ")\n",
    "print(f\"STFT magnitude shape: {stft_magnitude.shape}\")\n",
    "\n",
    "plt.figure(figsize=(12, 3))\n",
    "librosa.display.specshow(librosa.amplitude_to_db(stft_magnitude, ref=np.max))\n",
    "plt.title(\"STFT Magnitude Spectrogram\")\n",
    "plt.xlabel(\"Time (frames)\")\n",
    "plt.ylabel(\"Frequency (Hz)\")\n",
    "plt.colorbar(format=\"%+2.0f dB\")\n",
    "plt.show()"
   ],
   "id": "2350e168768315a1",
   "outputs": [],
   "execution_count": null
  },
  {
   "metadata": {},
   "cell_type": "code",
   "source": [
    "reconstructed_waveform = librosa.griffinlim(\n",
    "    stft_magnitude,\n",
    "    n_fft=512,\n",
    "    win_length=512,\n",
    "    hop_length=256,\n",
    "    window=\"hann\",\n",
    ")\n",
    "\n",
    "duration = librosa.get_duration(y=reconstructed_waveform, sr=sample_rate)\n",
    "print(f\"Duration: {duration:.3f} seconds\")\n",
    "print(f\"Number of samples: {len(reconstructed_waveform)}\")\n",
    "\n",
    "plt.figure(figsize=(12, 3))\n",
    "librosa.display.waveshow(reconstructed_waveform, sr=sample_rate, color=\"blue\")\n",
    "plt.title(\"Reconstructed Waveform\")\n",
    "plt.xlabel(\"Time (seconds)\")\n",
    "plt.ylabel(\"Amplitude\")\n",
    "plt.show()\n",
    "\n",
    "Audio(data=reconstructed_waveform, rate=sample_rate)"
   ],
   "id": "a2dda8f23aafab72",
   "outputs": [],
   "execution_count": null
  },
  {
   "metadata": {},
   "cell_type": "code",
   "source": [
    "restructured_f0, *_ = librosa.pyin(\n",
    "    reconstructed_waveform,\n",
    "    fmin=librosa.note_to_hz(\"C2\").item(),\n",
    "    fmax=librosa.note_to_hz(\"C7\").item(),\n",
    "    sr=sample_rate,\n",
    "    frame_length=2048,\n",
    "    hop_length=512,\n",
    ")\n",
    "\n",
    "original_f0, *_ = librosa.pyin(\n",
    "    original_waveform,\n",
    "    fmin=librosa.note_to_hz(\"C2\").item(),\n",
    "    fmax=librosa.note_to_hz(\"C7\").item(),\n",
    "    sr=sample_rate,\n",
    "    frame_length=2048,\n",
    "    hop_length=512,\n",
    ")\n",
    "\n",
    "plt.figure(figsize=(12, 3))\n",
    "plt.plot(restructured_f0, color=\"orange\", label=\" Restructured F0 (Pitch)\")\n",
    "plt.plot(original_f0, color=\"red\", label=\"Original F0 (Pitch)\")\n",
    "plt.title(\"F0 Contour\")\n",
    "plt.xlabel(\"Time (seconds)\")\n",
    "plt.ylabel(\"Frequency (Hz)\")\n",
    "plt.xlim(0, duration)\n",
    "plt.legend()\n",
    "plt.show()"
   ],
   "id": "65aa699f94ee6a0c",
   "outputs": [],
   "execution_count": null
  },
  {
   "metadata": {},
   "cell_type": "code",
   "source": [
    "min_length = min(len(original_waveform), len(reconstructed_waveform))\n",
    "\n",
    "pesq_score = pesq(\n",
    "    fs=SAMPLE_RATE,\n",
    "    ref=original_waveform[:min_length],\n",
    "    deg=reconstructed_waveform[:min_length],\n",
    "    mode=\"wb\",\n",
    ")\n",
    "print(f\"PESQ Score: {pesq_score:.3f}\")"
   ],
   "id": "a8fd9ee4f4cb982",
   "outputs": [],
   "execution_count": null
  }
 ],
 "metadata": {
  "kernelspec": {
   "display_name": "Python 3",
   "language": "python",
   "name": "python3"
  },
  "language_info": {
   "codemirror_mode": {
    "name": "ipython",
    "version": 2
   },
   "file_extension": ".py",
   "mimetype": "text/x-python",
   "name": "python",
   "nbconvert_exporter": "python",
   "pygments_lexer": "ipython2",
   "version": "2.7.6"
  }
 },
 "nbformat": 4,
 "nbformat_minor": 5
}
